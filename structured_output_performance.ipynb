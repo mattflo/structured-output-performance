{
 "cells": [
  {
   "cell_type": "markdown",
   "metadata": {},
   "source": [
    "# Structured Output Performance with LangChain\n",
    "\n",
    "[![Open In Colab](https://colab.research.google.com/assets/colab-badge.svg)](https://e7zy.short.gy/G1LklQ) [![View on GitHub](https://img.shields.io/badge/Open%20in%20GitHub-black?logo=github)](https://github.com/mattflo/structured-output-performance)\n",
    "\n",
    "TLDR: Check out the results below.\n",
    "\n",
    "My original objective was to identify open model alternatives to OpenAI that offered fast and reliable structured output. We are a LangChain shop. Despite its drawbacks, the ability to compose chains and the observability powered by LangSmith are extremely useful. So, calls to models in this analysis are wrapped in LangChain abstractions. If LangChain isn't your thing, I recommend you take a look at the excellent [Instructor](https://github.com/jxnl/instructor) project.\n",
    "\n",
    "Most of the models below are wrapped using LangChain's beta [with_structured_output](https://python.langchain.com/docs/guides/structured_output).\n",
    "\n",
    "## Consistency and Latency\n",
    "\n",
    "This analysis aims to measure two dimensions of performance - consistency and speed. Consistency is measured by the rate at which a model can reliably produce output that can be parsed into an instance of the desired class. Latency metrics should be interpreted more as a guide than a rigorous benchmark. The graphs show failure rate on the y axis and latency on the x axis. The lower left corner of the graphs shows models performing the best against these two metrics.\n",
    "\n",
    "\n",
    "## Baseline Findings\n",
    "\n",
    "I planned to baseline against the OpenAI models we've used prior to this analysis. When I saw @swyx's [tweet](https://twitter.com/swyx/status/1773154343845257602), it was time to see what was going on with the OpenAI models. It turns out all of the GPT 3.5 function calling in our applications is on the old 0613 version. This analysis shows why. The newer versions, for whatever reason, aren't nearly as consistent with function calling. As you'll see in the results below, you should probably use JSON mode on the newer versions.\n"
   ]
  },
  {
   "cell_type": "code",
   "execution_count": 1,
   "metadata": {},
   "outputs": [],
   "source": [
    "import sys\n",
    "\n",
    "if 'google.colab' in sys.modules or 'kaggle_secrets' in sys.modules:\n",
    "    !pip install set-env-colab-kaggle-dotenv langchain langchain-openai langchain-fireworks langchain-groq langchain-mistralai -qq"
   ]
  },
  {
   "cell_type": "code",
   "execution_count": 2,
   "metadata": {},
   "outputs": [],
   "source": [
    "import os\n",
    "from set_env import set_env\n",
    "\n",
    "# to run all the examples, you will need keys for all these inference providers\n",
    "# if you don't have some of these keys, you should get them!\n",
    "# if you don't want to get keys, you can optionally omit some of the examples\n",
    "# if local, set them up in `.env`\n",
    "# on colab set up the secrets in the left bar\n",
    "os.environ[\"OPENAI_API_KEY\"] = set_env(\"OPENAI_API_KEY\")\n",
    "os.environ[\"GROQ_API_KEY\"] = set_env(\"GROQ_API_KEY\")\n",
    "os.environ[\"FIREWORKS_API_KEY\"] = set_env(\"FIREWORKS_API_KEY\")\n",
    "os.environ[\"TOGETHER_API_KEY\"] = set_env(\"TOGETHER_API_KEY\")\n",
    "os.environ[\"MISTRAL_API_KEY\"] = set_env(\"MISTRAL_API_KEY\")"
   ]
  },
  {
   "cell_type": "code",
   "execution_count": 3,
   "metadata": {},
   "outputs": [],
   "source": [
    "import time\n",
    "from typing import List\n",
    "\n",
    "import numpy as np\n",
    "import pandas as pd\n",
    "import plotly.graph_objects as go\n",
    "from langchain.output_parsers import PydanticOutputParser\n",
    "from langchain.prompts import PromptTemplate\n",
    "from langchain_core.language_models.chat_models import BaseChatModel\n",
    "from langchain_core.pydantic_v1 import BaseModel, Field\n",
    "from langchain_core.runnables import Runnable, RunnableSequence\n",
    "from langchain_fireworks import ChatFireworks\n",
    "from langchain_groq import ChatGroq\n",
    "from langchain_mistralai import ChatMistralAI\n",
    "from langchain_openai import ChatOpenAI\n",
    "from pandas import DataFrame\n",
    "from tqdm import tqdm"
   ]
  },
  {
   "cell_type": "code",
   "execution_count": 4,
   "metadata": {},
   "outputs": [],
   "source": [
    "class FunctionCallingMixin:\n",
    "    def to_chain(\n",
    "        self,\n",
    "        pydantic_object: BaseModel,\n",
    "        prompt: str,\n",
    "    ) -> Runnable:\n",
    "        # The Pydantic object and a single string prompt are passed in here.\n",
    "        # If you want to do more complex things with the prompt, you may need to change this\n",
    "        prompt_template = PromptTemplate.from_template(prompt)\n",
    "        return prompt_template | self.with_structured_output(pydantic_object)\n",
    "\n",
    "\n",
    "class JsonModeMixin:\n",
    "    def to_chain(\n",
    "        self,\n",
    "        pydantic_object: BaseModel,\n",
    "        prompt: str,\n",
    "    ) -> Runnable:\n",
    "        # The Pydantic object and a single string prompt are passed in here.\n",
    "        # If you want to do more complex things with the prompt, you may need to change this\n",
    "        parser = PydanticOutputParser(pydantic_object=pydantic_object)\n",
    "        prompt_template = PromptTemplate.from_template(\n",
    "            \"{format_instructions}\\n\" + prompt,\n",
    "            partial_variables={\"format_instructions\": parser.get_format_instructions()},\n",
    "        )\n",
    "        return prompt_template | self.with_structured_output(\n",
    "            pydantic_object, method=\"json_mode\"\n",
    "        )\n",
    "\n",
    "\n",
    "class MistralLargeFunc(FunctionCallingMixin, ChatMistralAI):\n",
    "    def __init__(self):\n",
    "        super().__init__(model=\"mistral-large-latest\")\n",
    "\n",
    "\n",
    "class MistralLargeJson(ChatMistralAI):\n",
    "    def __init__(self):\n",
    "        super().__init__(model=\"mistral-large-latest\")\n",
    "\n",
    "    def to_chain(\n",
    "        self,\n",
    "        pydantic_object: BaseModel,\n",
    "        prompt: str,\n",
    "    ) -> Runnable:\n",
    "        parser = PydanticOutputParser(pydantic_object=pydantic_object)\n",
    "        prompt_template = PromptTemplate.from_template(\n",
    "            \"{format_instructions}\\n\" + prompt,\n",
    "            partial_variables={\"format_instructions\": parser.get_format_instructions()},\n",
    "        )\n",
    "        return prompt_template | self | parser\n",
    "\n",
    "\n",
    "class MistralSmall(FunctionCallingMixin, ChatMistralAI):\n",
    "    def __init__(self):\n",
    "        super().__init__(model=\"mistral-small-latest\")\n",
    "\n",
    "\n",
    "class Together(ChatOpenAI):\n",
    "    def __init__(self, model: str):\n",
    "        super().__init__(\n",
    "            model=model,\n",
    "            base_url=\"https://api.together.xyz/v1\",\n",
    "            api_key=os.environ[\"TOGETHER_API_KEY\"],\n",
    "        )\n",
    "\n",
    "\n",
    "# Together offers Json mode support for these also. however,\n",
    "# the latencies were all over the place so only the function calling models are included here\n",
    "class TogetherMistralFunc(FunctionCallingMixin, Together):\n",
    "    def __init__(self):\n",
    "        super().__init__(model=\"mistralai/Mistral-7B-Instruct-v0.1\")\n",
    "\n",
    "\n",
    "class TogetherMixtralFunc(FunctionCallingMixin, Together):\n",
    "    def __init__(self):\n",
    "        super().__init__(model=\"mistralai/Mixtral-8x7B-Instruct-v0.1\")\n",
    "\n",
    "\n",
    "class TogetherCodeLlama34BIFunc(FunctionCallingMixin, Together):\n",
    "    def __init__(self):\n",
    "        super().__init__(model=\"togethercomputer/CodeLlama-34b-Instruct\")\n",
    "\n",
    "\n",
    "class GPT4Functions(JsonModeMixin, ChatOpenAI):\n",
    "    def __init__(self):\n",
    "        super().__init__(model=\"gpt-4-turbo-preview\")\n",
    "\n",
    "\n",
    "class GPT4Json(JsonModeMixin, ChatOpenAI):\n",
    "    def __init__(self):\n",
    "        super().__init__(model=\"gpt-4-turbo-preview\")\n",
    "\n",
    "\n",
    "class GPT350613Functions(FunctionCallingMixin, ChatOpenAI):\n",
    "    def __init__(self):\n",
    "        super().__init__(model=\"gpt-3.5-turbo-0613\")\n",
    "\n",
    "\n",
    "class GPT351106Functions(FunctionCallingMixin, ChatOpenAI):\n",
    "    def __init__(self):\n",
    "        super().__init__(model=\"gpt-3.5-turbo-1106\")\n",
    "\n",
    "\n",
    "class GPT351106Json(JsonModeMixin, ChatOpenAI):\n",
    "    def __init__(self):\n",
    "        super().__init__(model=\"gpt-3.5-turbo-1106\")\n",
    "\n",
    "\n",
    "class GPT350125Functions(FunctionCallingMixin, ChatOpenAI):\n",
    "    def __init__(self):\n",
    "        super().__init__(model=\"gpt-3.5-turbo-0125\")\n",
    "\n",
    "\n",
    "class GPT350125Json(JsonModeMixin, ChatOpenAI):\n",
    "    def __init__(self):\n",
    "        super().__init__(model=\"gpt-3.5-turbo-0125\")\n",
    "\n",
    "\n",
    "class FireworksFunctions(FunctionCallingMixin, ChatFireworks):\n",
    "    def __init__(self):\n",
    "        super().__init__(model=\"accounts/fireworks/models/firefunction-v1\")\n",
    "\n",
    "\n",
    "class FireworksMixtral(JsonModeMixin, ChatFireworks):\n",
    "    def __init__(self, **kwargs):\n",
    "        super().__init__(\n",
    "            model=\"accounts/fireworks/models/mixtral-8x7b-instruct\",\n",
    "            **kwargs,\n",
    "        )\n",
    "\n",
    "\n",
    "# groq is the only one that needs a slightly different chain construction\n",
    "class Groq(ChatGroq):\n",
    "    def to_chain(\n",
    "        self,\n",
    "        pydantic_object: BaseModel,\n",
    "        prompt: str,\n",
    "    ) -> Runnable:\n",
    "        # The Pydantic object and a single string prompt are passed in here.\n",
    "        # If you want to do more complex things with the prompt, you may need to change this\n",
    "        parser = PydanticOutputParser(pydantic_object=pydantic_object)\n",
    "        prompt_template = PromptTemplate.from_template(\n",
    "            \"{format_instructions}\\n\" + prompt,\n",
    "            partial_variables={\"format_instructions\": parser.get_format_instructions()},\n",
    "        )\n",
    "        return prompt_template | self | parser\n",
    "\n",
    "\n",
    "class GroqMixtral(Groq):\n",
    "    def __init__(self):\n",
    "        super().__init__(model=\"mixtral-8x7b-32768\")\n",
    "\n",
    "\n",
    "class GroqGemma7b(Groq):\n",
    "    def __init__(self):\n",
    "        super().__init__(model=\"gemma-7b-it\")\n",
    "\n",
    "\n",
    "class GroqLLaMa70b(Groq):\n",
    "    def __init__(self):\n",
    "        super().__init__(model=\"llama2-70b-4096\")\n",
    "\n",
    "\n",
    "def model_groups(cls):\n",
    "    cls.Groq = [cls.GroqMixtral, cls.GroqLLaMa70b, cls.GroqGemma7b]\n",
    "    cls.Fireworks = [cls.FireworksMixtral, cls.FireworksFunctions]\n",
    "    cls.TogetherFunc = [\n",
    "        cls.TogetherMistralFunc,\n",
    "        cls.TogetherMixtralFunc,\n",
    "        cls.TogetherCodeLlama34BIFunc,\n",
    "    ]\n",
    "    cls.GPT4 = [cls.GPT4Functions, cls.GPT4Json]\n",
    "    cls.GPT35 = [\n",
    "        cls.GPT350613Functions,\n",
    "        cls.GPT351106Functions,\n",
    "        cls.GPT351106Json,\n",
    "        cls.GPT350125Functions,\n",
    "        cls.GPT350125Json,\n",
    "    ]\n",
    "    cls.Mistral = [cls.MistralLargeFunc]\n",
    "    return cls\n",
    "\n",
    "\n",
    "@model_groups\n",
    "class Models:\n",
    "    # https://docs.mistral.ai/platform/endpoints/#operation/listModels\n",
    "    Mistral: List[BaseChatModel]\n",
    "    MistralLargeFunc = MistralLargeFunc()\n",
    "\n",
    "    # https://console.groq.com/docs/models\n",
    "    Groq: List[BaseChatModel]\n",
    "    GroqMixtral = GroqMixtral()\n",
    "    GroqLLaMa70b = GroqLLaMa70b()\n",
    "    GroqGemma7b = GroqGemma7b()\n",
    "\n",
    "    Fireworks: List[BaseChatModel]\n",
    "    # https://readme.fireworks.ai/docs/structured-response-formatting\n",
    "    FireworksMixtral = FireworksMixtral(max_tokens=1000)\n",
    "    # https://readme.fireworks.ai/docs/function-calling\n",
    "    FireworksFunctions = FireworksFunctions()\n",
    "\n",
    "    # https://docs.together.ai/docs/function-calling\n",
    "    TogetherFunc: List[BaseChatModel]\n",
    "    TogetherMistralFunc = TogetherMistralFunc()\n",
    "    TogetherMixtralFunc = TogetherMixtralFunc()\n",
    "    TogetherCodeLlama34BIFunc = TogetherCodeLlama34BIFunc()\n",
    "\n",
    "    GPT4: List[BaseChatModel]\n",
    "    GPT4Functions = GPT4Functions()\n",
    "    GPT4Json = GPT4Json()\n",
    "\n",
    "    GPT35: List[BaseChatModel]\n",
    "    GPT350613Functions = GPT350613Functions()\n",
    "    GPT351106Functions = GPT351106Functions()\n",
    "    GPT351106Json = GPT351106Json()\n",
    "    GPT350125Functions = GPT350125Functions()\n",
    "    GPT350125Json = GPT350125Json()"
   ]
  },
  {
   "cell_type": "markdown",
   "metadata": {},
   "source": [
    "### Choose which models to include in the comparison"
   ]
  },
  {
   "cell_type": "code",
   "execution_count": 5,
   "metadata": {},
   "outputs": [],
   "source": [
    "model_filter: List[BaseChatModel] = [\n",
    "    *Models.GPT35,\n",
    "    *Models.GPT4,\n",
    "    *Models.TogetherFunc,\n",
    "    *Models.Fireworks,\n",
    "    *Models.Groq,\n",
    "    *Models.Mistral,\n",
    "]"
   ]
  },
  {
   "cell_type": "code",
   "execution_count": 6,
   "metadata": {},
   "outputs": [],
   "source": [
    "actors = [\n",
    "    \"Leonardo DiCaprio\",\n",
    "    \"Denzel Washington\",\n",
    "    \"Tom Hanks\",\n",
    "    \"Brad Pitt\",\n",
    "    \"Joaquin Phoenix\",\n",
    "    \"Meryl Streep\",\n",
    "    \"Jennifer Lawrence\",\n",
    "    \"Viola Davis\",\n",
    "    \"Cate Blanchett\",\n",
    "    \"Scarlett Johansson\",\n",
    "]"
   ]
  },
  {
   "cell_type": "markdown",
   "metadata": {},
   "source": [
    "### Try out other functions/prompts here"
   ]
  },
  {
   "cell_type": "code",
   "execution_count": 7,
   "metadata": {},
   "outputs": [],
   "source": [
    "class Actor(BaseModel):\n",
    "    name: str = Field(description=\"name of an actor\")\n",
    "    film_names: List[str] = Field(description=\"list of names of films they starred in\")\n",
    "    awards: List[str] = Field(description=\"list of awards they won\")\n",
    "\n",
    "\n",
    "prompt = \"Generate the filmography for {actor}.\\n\""
   ]
  },
  {
   "cell_type": "code",
   "execution_count": 8,
   "metadata": {},
   "outputs": [
    {
     "name": "stdout",
     "output_type": "stream",
     "text": [
      "created 160 model actor pairs\n"
     ]
    }
   ],
   "source": [
    "# create all the model and actor combinations\n",
    "\n",
    "models_actors = [(model, actor) for model in model_filter[:] for actor in actors[:]]\n",
    "\n",
    "print(f\"created {len(models_actors)} model actor pairs\")"
   ]
  },
  {
   "cell_type": "code",
   "execution_count": 9,
   "metadata": {},
   "outputs": [
    {
     "name": "stderr",
     "output_type": "stream",
     "text": [
      "  0%|          | 0/160 [00:00<?, ?it/s]"
     ]
    },
    {
     "name": "stderr",
     "output_type": "stream",
     "text": [
      "/Users/matt/Library/Caches/pypoetry/virtualenvs/structured-output-performance-Ue2yfMMy-py3.11/lib/python3.11/site-packages/langchain_core/_api/beta_decorator.py:87: LangChainBetaWarning: The function `with_structured_output` is in beta. It is actively being worked on, so the API may change.\n",
      "  warn_beta(\n",
      " 62%|██████▎   | 100/160 [04:58<03:17,  3.29s/it]/Users/matt/Library/Caches/pypoetry/virtualenvs/structured-output-performance-Ue2yfMMy-py3.11/lib/python3.11/site-packages/langchain_core/_api/beta_decorator.py:87: LangChainBetaWarning: The function `with_structured_output` is in beta. It is actively being worked on, so the API may change.\n",
      "  warn_beta(\n",
      " 94%|█████████▍| 150/160 [06:08<00:05,  1.82it/s]/Users/matt/Library/Caches/pypoetry/virtualenvs/structured-output-performance-Ue2yfMMy-py3.11/lib/python3.11/site-packages/langchain_core/_api/beta_decorator.py:87: LangChainBetaWarning: The function `with_structured_output` is in beta. It is actively being worked on, so the API may change.\n",
      "  warn_beta(\n",
      "100%|██████████| 160/160 [06:33<00:00,  2.46s/it]\n"
     ]
    },
    {
     "data": {
      "text/plain": [
       "[{'model': 'GPT350613Functions',\n",
       "  'result': Actor(name='Leonardo DiCaprio', film_names=['Titanic', 'The Revenant', 'Inception', 'The Departed', 'The Wolf of Wall Street', 'Django Unchained', 'Catch Me If You Can', 'The Great Gatsby', 'Shutter Island', 'Blood Diamond'], awards=['Academy Award for Best Actor', 'Golden Globe Award for Best Actor', 'BAFTA Award for Best Actor']),\n",
       "  'latency': 1.800079107284546},\n",
       " {'model': 'GPT350613Functions',\n",
       "  'result': Actor(name='Denzel Washington', film_names=['Training Day', 'Malcolm X', 'Glory', 'The Equalizer', 'Flight', 'Remember the Titans', 'American Gangster', 'Inside Man', 'The Book of Eli', 'Fences'], awards=['Academy Award for Best Actor', 'Golden Globe Award for Best Actor', 'Screen Actors Guild Award for Outstanding Performance by a Male Actor in a Leading Role']),\n",
       "  'latency': 1.8030071258544922}]"
      ]
     },
     "execution_count": 9,
     "metadata": {},
     "output_type": "execute_result"
    }
   ],
   "source": [
    "# Takes about ~7 minutes to run 160 samples\n",
    "results = []\n",
    "\n",
    "for model, actor in tqdm(models_actors):\n",
    "    chain: RunnableSequence = model.to_chain(Actor, prompt)\n",
    "\n",
    "    start = time.time()\n",
    "    try:\n",
    "        result = chain.invoke({\"actor\": actor})\n",
    "    except Exception as e:\n",
    "        result = e\n",
    "\n",
    "    end = time.time()\n",
    "    results.append(\n",
    "        {\n",
    "            \"model\": model.__class__.__name__,\n",
    "            \"result\": result,\n",
    "            \"latency\": end - start,\n",
    "        }\n",
    "    )\n",
    "\n",
    "results[:2]"
   ]
  },
  {
   "cell_type": "code",
   "execution_count": 10,
   "metadata": {},
   "outputs": [],
   "source": [
    "# put the results in a dataframe\n",
    "df = pd.DataFrame(results)"
   ]
  },
  {
   "cell_type": "code",
   "execution_count": 11,
   "metadata": {},
   "outputs": [
    {
     "data": {
      "text/html": [
       "<div>\n",
       "<style scoped>\n",
       "    .dataframe tbody tr th:only-of-type {\n",
       "        vertical-align: middle;\n",
       "    }\n",
       "\n",
       "    .dataframe tbody tr th {\n",
       "        vertical-align: top;\n",
       "    }\n",
       "\n",
       "    .dataframe thead th {\n",
       "        text-align: right;\n",
       "    }\n",
       "</style>\n",
       "<table border=\"1\" class=\"dataframe\">\n",
       "  <thead>\n",
       "    <tr style=\"text-align: right;\">\n",
       "      <th></th>\n",
       "      <th>model</th>\n",
       "      <th>result</th>\n",
       "      <th>latency</th>\n",
       "      <th>failure</th>\n",
       "    </tr>\n",
       "  </thead>\n",
       "  <tbody>\n",
       "    <tr>\n",
       "      <th>0</th>\n",
       "      <td>GPT350613Functions</td>\n",
       "      <td>name='Leonardo DiCaprio' film_names=['Titanic'...</td>\n",
       "      <td>1.800079</td>\n",
       "      <td>False</td>\n",
       "    </tr>\n",
       "    <tr>\n",
       "      <th>1</th>\n",
       "      <td>GPT350613Functions</td>\n",
       "      <td>name='Denzel Washington' film_names=['Training...</td>\n",
       "      <td>1.803007</td>\n",
       "      <td>False</td>\n",
       "    </tr>\n",
       "    <tr>\n",
       "      <th>2</th>\n",
       "      <td>GPT350613Functions</td>\n",
       "      <td>name='Tom Hanks' film_names=['Forrest Gump', '...</td>\n",
       "      <td>1.757051</td>\n",
       "      <td>False</td>\n",
       "    </tr>\n",
       "    <tr>\n",
       "      <th>3</th>\n",
       "      <td>GPT350613Functions</td>\n",
       "      <td>name='Brad Pitt' film_names=['Fight Club', 'Se...</td>\n",
       "      <td>1.638846</td>\n",
       "      <td>False</td>\n",
       "    </tr>\n",
       "    <tr>\n",
       "      <th>4</th>\n",
       "      <td>GPT350613Functions</td>\n",
       "      <td>name='Joaquin Phoenix' film_names=['Joker', 'H...</td>\n",
       "      <td>1.741278</td>\n",
       "      <td>False</td>\n",
       "    </tr>\n",
       "  </tbody>\n",
       "</table>\n",
       "</div>"
      ],
      "text/plain": [
       "                model                                             result  \\\n",
       "0  GPT350613Functions  name='Leonardo DiCaprio' film_names=['Titanic'...   \n",
       "1  GPT350613Functions  name='Denzel Washington' film_names=['Training...   \n",
       "2  GPT350613Functions  name='Tom Hanks' film_names=['Forrest Gump', '...   \n",
       "3  GPT350613Functions  name='Brad Pitt' film_names=['Fight Club', 'Se...   \n",
       "4  GPT350613Functions  name='Joaquin Phoenix' film_names=['Joker', 'H...   \n",
       "\n",
       "    latency  failure  \n",
       "0  1.800079    False  \n",
       "1  1.803007    False  \n",
       "2  1.757051    False  \n",
       "3  1.638846    False  \n",
       "4  1.741278    False  "
      ]
     },
     "execution_count": 11,
     "metadata": {},
     "output_type": "execute_result"
    }
   ],
   "source": [
    "# compute failure rate\n",
    "df[\"failure\"] = df[\"result\"].apply(lambda x: not isinstance(x, Actor))\n",
    "df.head()"
   ]
  },
  {
   "cell_type": "code",
   "execution_count": 12,
   "metadata": {},
   "outputs": [],
   "source": [
    "def show_scatter_plot(\n",
    "    title: str, df: DataFrame, model_filter: List[BaseChatModel] = None\n",
    "):\n",
    "    if model_filter is not None:\n",
    "        df = df[df[\"model\"].isin([model.__class__.__name__ for model in model_filter])]\n",
    "    # Calculate the mean, median, and quartiles of latency for each model\n",
    "    model_stats = (\n",
    "        df.groupby(\"model\")\n",
    "        .agg(\n",
    "            {\n",
    "                \"latency\": [\n",
    "                    \"mean\",\n",
    "                    lambda x: np.percentile(x, 25),\n",
    "                    lambda x: np.percentile(x, 50),\n",
    "                    lambda x: np.percentile(x, 75),\n",
    "                ],\n",
    "                \"failure\": \"mean\",\n",
    "            }\n",
    "        )\n",
    "        .reset_index()\n",
    "    )\n",
    "\n",
    "    # Convert failure mean to percentage\n",
    "    model_stats[\"failure\", \"mean\"] *= 100\n",
    "\n",
    "    # Create a scatter plot\n",
    "    fig = go.Figure()\n",
    "\n",
    "    # Define a list of text positions to cycle through\n",
    "    text_positions = [\n",
    "        \"top center\",\n",
    "        \"bottom center\",\n",
    "        # \"top center\",\n",
    "    ]\n",
    "    position_index = 0\n",
    "\n",
    "    for _, row in model_stats.iterrows():\n",
    "        model_name = row[(\"model\", \"\")]\n",
    "        latency_mean = row[(\"latency\", \"mean\")]\n",
    "        quartile_25 = row[(\"latency\", \"<lambda_0>\")]\n",
    "        latency_median = row[(\"latency\", \"<lambda_1>\")]\n",
    "        quartile_75 = row[(\"latency\", \"<lambda_2>\")]\n",
    "        failure_rate = row[(\"failure\", \"mean\")]\n",
    "\n",
    "        # Custom hover text\n",
    "        custom_hover_text = f\"<b>{model_name}</b><br>Failure Rate: {failure_rate:.2f}%<br>1st Quartile: {quartile_25:.2f}s<br>Mean: {latency_mean:.2f}s<br>Median: {latency_median:.2f}s<br>3rd Quartile: {quartile_75:.2f}s\"\n",
    "\n",
    "        fig.add_trace(\n",
    "            go.Scatter(\n",
    "                x=[latency_median],\n",
    "                y=[failure_rate],\n",
    "                # optionally add quartile error bars\n",
    "                # error_x=dict(\n",
    "                #     type=\"data\",\n",
    "                #     array=[latency_median - quartile_25, quartile_75 - latency_median],\n",
    "                #     visible=True,\n",
    "                # ),\n",
    "                name=model_name,\n",
    "                text=[model_name],  # Model name as point label\n",
    "                hovertemplate=custom_hover_text\n",
    "                + \"<extra></extra>\",  # Custom hover text without the trace name\n",
    "                mode=\"markers+text\",\n",
    "                textposition=text_positions[\n",
    "                    position_index % len(text_positions)\n",
    "                ],  # Cycle through positions\n",
    "            )\n",
    "        )\n",
    "        position_index += 1  # Move to the next position for the next model\n",
    "\n",
    "    fig.update_layout(\n",
    "        title=title,\n",
    "        xaxis_title=\"Median Latency (seconds)\",\n",
    "        yaxis_title=\"Failure Rate (%)\",\n",
    "        showlegend=False,  # Hide the legend to avoid redundancy\n",
    "    )\n",
    "\n",
    "    fig.show()"
   ]
  },
  {
   "cell_type": "markdown",
   "metadata": {},
   "source": [
    "# Results\n",
    "\n",
    "**Note**: To see the graphs, you will need to open the notebook in [Colab](https://e7zy.short.gy/G1LklQ) or run it yourself.\n",
    "\n",
    "**Failure Rate** - the rate that the model produced output that _couldn't_ be parsed into an instance of the Actor class.\n",
    "\n",
    "**Latency** - the median time in seconds it took for the model/provider to return.\n",
    "\n",
    "The fastest, most consistent models will appear in the bottom left of the graphs."
   ]
  },
  {
   "cell_type": "markdown",
   "metadata": {},
   "source": [
    "## Best Open Model Options\n",
    "\n",
    "All of these model, inference provider pairs produce consistent structured output. \n",
    "\n",
    "- **GroqGemma7b** recently moves into the top spot with the lowest latency.\n",
    "- **GroqMixtral** is still blazing fast in second place.\n",
    "- **FireworksFunctions** is trailed by **FireworksMixtral**, **TogetherMixtral**, and **TogetherMistral**.\n",
    "- **TogetherCodeLlama34B** is quite a bit slower."
   ]
  },
  {
   "cell_type": "code",
   "execution_count": 16,
   "metadata": {},
   "outputs": [
    {
     "data": {
      "application/vnd.plotly.v1+json": {
       "config": {
        "plotlyServerURL": "https://plot.ly"
       },
       "data": [
        {
         "hovertemplate": "<b>FireworksFunctions</b><br>Failure Rate: 0.00%<br>1st Quartile: 1.07s<br>Mean: 1.20s<br>Median: 1.23s<br>3rd Quartile: 1.30s<extra></extra>",
         "mode": "markers+text",
         "name": "FireworksFunctions",
         "text": [
          "FireworksFunctions"
         ],
         "textposition": "top center",
         "type": "scatter",
         "x": [
          1.2278610467910767
         ],
         "y": [
          0
         ]
        },
        {
         "hovertemplate": "<b>FireworksMixtral</b><br>Failure Rate: 0.00%<br>1st Quartile: 1.41s<br>Mean: 3.17s<br>Median: 1.90s<br>3rd Quartile: 4.59s<extra></extra>",
         "mode": "markers+text",
         "name": "FireworksMixtral",
         "text": [
          "FireworksMixtral"
         ],
         "textposition": "bottom center",
         "type": "scatter",
         "x": [
          1.9042160511016846
         ],
         "y": [
          0
         ]
        },
        {
         "hovertemplate": "<b>GroqGemma7b</b><br>Failure Rate: 0.00%<br>1st Quartile: 0.44s<br>Mean: 0.56s<br>Median: 0.51s<br>3rd Quartile: 0.53s<extra></extra>",
         "mode": "markers+text",
         "name": "GroqGemma7b",
         "text": [
          "GroqGemma7b"
         ],
         "textposition": "top center",
         "type": "scatter",
         "x": [
          0.5132019519805908
         ],
         "y": [
          0
         ]
        },
        {
         "hovertemplate": "<b>GroqMixtral</b><br>Failure Rate: 0.00%<br>1st Quartile: 0.71s<br>Mean: 0.98s<br>Median: 0.77s<br>3rd Quartile: 0.90s<extra></extra>",
         "mode": "markers+text",
         "name": "GroqMixtral",
         "text": [
          "GroqMixtral"
         ],
         "textposition": "bottom center",
         "type": "scatter",
         "x": [
          0.7671747207641602
         ],
         "y": [
          0
         ]
        },
        {
         "hovertemplate": "<b>TogetherCodeLlama34BIFunc</b><br>Failure Rate: 0.00%<br>1st Quartile: 3.42s<br>Mean: 3.47s<br>Median: 3.59s<br>3rd Quartile: 3.64s<extra></extra>",
         "mode": "markers+text",
         "name": "TogetherCodeLlama34BIFunc",
         "text": [
          "TogetherCodeLlama34BIFunc"
         ],
         "textposition": "top center",
         "type": "scatter",
         "x": [
          3.587239980697632
         ],
         "y": [
          0
         ]
        },
        {
         "hovertemplate": "<b>TogetherMistralFunc</b><br>Failure Rate: 0.00%<br>1st Quartile: 1.64s<br>Mean: 2.19s<br>Median: 2.00s<br>3rd Quartile: 2.20s<extra></extra>",
         "mode": "markers+text",
         "name": "TogetherMistralFunc",
         "text": [
          "TogetherMistralFunc"
         ],
         "textposition": "bottom center",
         "type": "scatter",
         "x": [
          1.99796462059021
         ],
         "y": [
          0
         ]
        },
        {
         "hovertemplate": "<b>TogetherMixtralFunc</b><br>Failure Rate: 0.00%<br>1st Quartile: 1.50s<br>Mean: 1.89s<br>Median: 1.92s<br>3rd Quartile: 2.16s<extra></extra>",
         "mode": "markers+text",
         "name": "TogetherMixtralFunc",
         "text": [
          "TogetherMixtralFunc"
         ],
         "textposition": "top center",
         "type": "scatter",
         "x": [
          1.9201750755310059
         ],
         "y": [
          0
         ]
        }
       ],
       "layout": {
        "showlegend": false,
        "template": {
         "data": {
          "bar": [
           {
            "error_x": {
             "color": "#2a3f5f"
            },
            "error_y": {
             "color": "#2a3f5f"
            },
            "marker": {
             "line": {
              "color": "#E5ECF6",
              "width": 0.5
             },
             "pattern": {
              "fillmode": "overlay",
              "size": 10,
              "solidity": 0.2
             }
            },
            "type": "bar"
           }
          ],
          "barpolar": [
           {
            "marker": {
             "line": {
              "color": "#E5ECF6",
              "width": 0.5
             },
             "pattern": {
              "fillmode": "overlay",
              "size": 10,
              "solidity": 0.2
             }
            },
            "type": "barpolar"
           }
          ],
          "carpet": [
           {
            "aaxis": {
             "endlinecolor": "#2a3f5f",
             "gridcolor": "white",
             "linecolor": "white",
             "minorgridcolor": "white",
             "startlinecolor": "#2a3f5f"
            },
            "baxis": {
             "endlinecolor": "#2a3f5f",
             "gridcolor": "white",
             "linecolor": "white",
             "minorgridcolor": "white",
             "startlinecolor": "#2a3f5f"
            },
            "type": "carpet"
           }
          ],
          "choropleth": [
           {
            "colorbar": {
             "outlinewidth": 0,
             "ticks": ""
            },
            "type": "choropleth"
           }
          ],
          "contour": [
           {
            "colorbar": {
             "outlinewidth": 0,
             "ticks": ""
            },
            "colorscale": [
             [
              0,
              "#0d0887"
             ],
             [
              0.1111111111111111,
              "#46039f"
             ],
             [
              0.2222222222222222,
              "#7201a8"
             ],
             [
              0.3333333333333333,
              "#9c179e"
             ],
             [
              0.4444444444444444,
              "#bd3786"
             ],
             [
              0.5555555555555556,
              "#d8576b"
             ],
             [
              0.6666666666666666,
              "#ed7953"
             ],
             [
              0.7777777777777778,
              "#fb9f3a"
             ],
             [
              0.8888888888888888,
              "#fdca26"
             ],
             [
              1,
              "#f0f921"
             ]
            ],
            "type": "contour"
           }
          ],
          "contourcarpet": [
           {
            "colorbar": {
             "outlinewidth": 0,
             "ticks": ""
            },
            "type": "contourcarpet"
           }
          ],
          "heatmap": [
           {
            "colorbar": {
             "outlinewidth": 0,
             "ticks": ""
            },
            "colorscale": [
             [
              0,
              "#0d0887"
             ],
             [
              0.1111111111111111,
              "#46039f"
             ],
             [
              0.2222222222222222,
              "#7201a8"
             ],
             [
              0.3333333333333333,
              "#9c179e"
             ],
             [
              0.4444444444444444,
              "#bd3786"
             ],
             [
              0.5555555555555556,
              "#d8576b"
             ],
             [
              0.6666666666666666,
              "#ed7953"
             ],
             [
              0.7777777777777778,
              "#fb9f3a"
             ],
             [
              0.8888888888888888,
              "#fdca26"
             ],
             [
              1,
              "#f0f921"
             ]
            ],
            "type": "heatmap"
           }
          ],
          "heatmapgl": [
           {
            "colorbar": {
             "outlinewidth": 0,
             "ticks": ""
            },
            "colorscale": [
             [
              0,
              "#0d0887"
             ],
             [
              0.1111111111111111,
              "#46039f"
             ],
             [
              0.2222222222222222,
              "#7201a8"
             ],
             [
              0.3333333333333333,
              "#9c179e"
             ],
             [
              0.4444444444444444,
              "#bd3786"
             ],
             [
              0.5555555555555556,
              "#d8576b"
             ],
             [
              0.6666666666666666,
              "#ed7953"
             ],
             [
              0.7777777777777778,
              "#fb9f3a"
             ],
             [
              0.8888888888888888,
              "#fdca26"
             ],
             [
              1,
              "#f0f921"
             ]
            ],
            "type": "heatmapgl"
           }
          ],
          "histogram": [
           {
            "marker": {
             "pattern": {
              "fillmode": "overlay",
              "size": 10,
              "solidity": 0.2
             }
            },
            "type": "histogram"
           }
          ],
          "histogram2d": [
           {
            "colorbar": {
             "outlinewidth": 0,
             "ticks": ""
            },
            "colorscale": [
             [
              0,
              "#0d0887"
             ],
             [
              0.1111111111111111,
              "#46039f"
             ],
             [
              0.2222222222222222,
              "#7201a8"
             ],
             [
              0.3333333333333333,
              "#9c179e"
             ],
             [
              0.4444444444444444,
              "#bd3786"
             ],
             [
              0.5555555555555556,
              "#d8576b"
             ],
             [
              0.6666666666666666,
              "#ed7953"
             ],
             [
              0.7777777777777778,
              "#fb9f3a"
             ],
             [
              0.8888888888888888,
              "#fdca26"
             ],
             [
              1,
              "#f0f921"
             ]
            ],
            "type": "histogram2d"
           }
          ],
          "histogram2dcontour": [
           {
            "colorbar": {
             "outlinewidth": 0,
             "ticks": ""
            },
            "colorscale": [
             [
              0,
              "#0d0887"
             ],
             [
              0.1111111111111111,
              "#46039f"
             ],
             [
              0.2222222222222222,
              "#7201a8"
             ],
             [
              0.3333333333333333,
              "#9c179e"
             ],
             [
              0.4444444444444444,
              "#bd3786"
             ],
             [
              0.5555555555555556,
              "#d8576b"
             ],
             [
              0.6666666666666666,
              "#ed7953"
             ],
             [
              0.7777777777777778,
              "#fb9f3a"
             ],
             [
              0.8888888888888888,
              "#fdca26"
             ],
             [
              1,
              "#f0f921"
             ]
            ],
            "type": "histogram2dcontour"
           }
          ],
          "mesh3d": [
           {
            "colorbar": {
             "outlinewidth": 0,
             "ticks": ""
            },
            "type": "mesh3d"
           }
          ],
          "parcoords": [
           {
            "line": {
             "colorbar": {
              "outlinewidth": 0,
              "ticks": ""
             }
            },
            "type": "parcoords"
           }
          ],
          "pie": [
           {
            "automargin": true,
            "type": "pie"
           }
          ],
          "scatter": [
           {
            "fillpattern": {
             "fillmode": "overlay",
             "size": 10,
             "solidity": 0.2
            },
            "type": "scatter"
           }
          ],
          "scatter3d": [
           {
            "line": {
             "colorbar": {
              "outlinewidth": 0,
              "ticks": ""
             }
            },
            "marker": {
             "colorbar": {
              "outlinewidth": 0,
              "ticks": ""
             }
            },
            "type": "scatter3d"
           }
          ],
          "scattercarpet": [
           {
            "marker": {
             "colorbar": {
              "outlinewidth": 0,
              "ticks": ""
             }
            },
            "type": "scattercarpet"
           }
          ],
          "scattergeo": [
           {
            "marker": {
             "colorbar": {
              "outlinewidth": 0,
              "ticks": ""
             }
            },
            "type": "scattergeo"
           }
          ],
          "scattergl": [
           {
            "marker": {
             "colorbar": {
              "outlinewidth": 0,
              "ticks": ""
             }
            },
            "type": "scattergl"
           }
          ],
          "scattermapbox": [
           {
            "marker": {
             "colorbar": {
              "outlinewidth": 0,
              "ticks": ""
             }
            },
            "type": "scattermapbox"
           }
          ],
          "scatterpolar": [
           {
            "marker": {
             "colorbar": {
              "outlinewidth": 0,
              "ticks": ""
             }
            },
            "type": "scatterpolar"
           }
          ],
          "scatterpolargl": [
           {
            "marker": {
             "colorbar": {
              "outlinewidth": 0,
              "ticks": ""
             }
            },
            "type": "scatterpolargl"
           }
          ],
          "scatterternary": [
           {
            "marker": {
             "colorbar": {
              "outlinewidth": 0,
              "ticks": ""
             }
            },
            "type": "scatterternary"
           }
          ],
          "surface": [
           {
            "colorbar": {
             "outlinewidth": 0,
             "ticks": ""
            },
            "colorscale": [
             [
              0,
              "#0d0887"
             ],
             [
              0.1111111111111111,
              "#46039f"
             ],
             [
              0.2222222222222222,
              "#7201a8"
             ],
             [
              0.3333333333333333,
              "#9c179e"
             ],
             [
              0.4444444444444444,
              "#bd3786"
             ],
             [
              0.5555555555555556,
              "#d8576b"
             ],
             [
              0.6666666666666666,
              "#ed7953"
             ],
             [
              0.7777777777777778,
              "#fb9f3a"
             ],
             [
              0.8888888888888888,
              "#fdca26"
             ],
             [
              1,
              "#f0f921"
             ]
            ],
            "type": "surface"
           }
          ],
          "table": [
           {
            "cells": {
             "fill": {
              "color": "#EBF0F8"
             },
             "line": {
              "color": "white"
             }
            },
            "header": {
             "fill": {
              "color": "#C8D4E3"
             },
             "line": {
              "color": "white"
             }
            },
            "type": "table"
           }
          ]
         },
         "layout": {
          "annotationdefaults": {
           "arrowcolor": "#2a3f5f",
           "arrowhead": 0,
           "arrowwidth": 1
          },
          "autotypenumbers": "strict",
          "coloraxis": {
           "colorbar": {
            "outlinewidth": 0,
            "ticks": ""
           }
          },
          "colorscale": {
           "diverging": [
            [
             0,
             "#8e0152"
            ],
            [
             0.1,
             "#c51b7d"
            ],
            [
             0.2,
             "#de77ae"
            ],
            [
             0.3,
             "#f1b6da"
            ],
            [
             0.4,
             "#fde0ef"
            ],
            [
             0.5,
             "#f7f7f7"
            ],
            [
             0.6,
             "#e6f5d0"
            ],
            [
             0.7,
             "#b8e186"
            ],
            [
             0.8,
             "#7fbc41"
            ],
            [
             0.9,
             "#4d9221"
            ],
            [
             1,
             "#276419"
            ]
           ],
           "sequential": [
            [
             0,
             "#0d0887"
            ],
            [
             0.1111111111111111,
             "#46039f"
            ],
            [
             0.2222222222222222,
             "#7201a8"
            ],
            [
             0.3333333333333333,
             "#9c179e"
            ],
            [
             0.4444444444444444,
             "#bd3786"
            ],
            [
             0.5555555555555556,
             "#d8576b"
            ],
            [
             0.6666666666666666,
             "#ed7953"
            ],
            [
             0.7777777777777778,
             "#fb9f3a"
            ],
            [
             0.8888888888888888,
             "#fdca26"
            ],
            [
             1,
             "#f0f921"
            ]
           ],
           "sequentialminus": [
            [
             0,
             "#0d0887"
            ],
            [
             0.1111111111111111,
             "#46039f"
            ],
            [
             0.2222222222222222,
             "#7201a8"
            ],
            [
             0.3333333333333333,
             "#9c179e"
            ],
            [
             0.4444444444444444,
             "#bd3786"
            ],
            [
             0.5555555555555556,
             "#d8576b"
            ],
            [
             0.6666666666666666,
             "#ed7953"
            ],
            [
             0.7777777777777778,
             "#fb9f3a"
            ],
            [
             0.8888888888888888,
             "#fdca26"
            ],
            [
             1,
             "#f0f921"
            ]
           ]
          },
          "colorway": [
           "#636efa",
           "#EF553B",
           "#00cc96",
           "#ab63fa",
           "#FFA15A",
           "#19d3f3",
           "#FF6692",
           "#B6E880",
           "#FF97FF",
           "#FECB52"
          ],
          "font": {
           "color": "#2a3f5f"
          },
          "geo": {
           "bgcolor": "white",
           "lakecolor": "white",
           "landcolor": "#E5ECF6",
           "showlakes": true,
           "showland": true,
           "subunitcolor": "white"
          },
          "hoverlabel": {
           "align": "left"
          },
          "hovermode": "closest",
          "mapbox": {
           "style": "light"
          },
          "paper_bgcolor": "white",
          "plot_bgcolor": "#E5ECF6",
          "polar": {
           "angularaxis": {
            "gridcolor": "white",
            "linecolor": "white",
            "ticks": ""
           },
           "bgcolor": "#E5ECF6",
           "radialaxis": {
            "gridcolor": "white",
            "linecolor": "white",
            "ticks": ""
           }
          },
          "scene": {
           "xaxis": {
            "backgroundcolor": "#E5ECF6",
            "gridcolor": "white",
            "gridwidth": 2,
            "linecolor": "white",
            "showbackground": true,
            "ticks": "",
            "zerolinecolor": "white"
           },
           "yaxis": {
            "backgroundcolor": "#E5ECF6",
            "gridcolor": "white",
            "gridwidth": 2,
            "linecolor": "white",
            "showbackground": true,
            "ticks": "",
            "zerolinecolor": "white"
           },
           "zaxis": {
            "backgroundcolor": "#E5ECF6",
            "gridcolor": "white",
            "gridwidth": 2,
            "linecolor": "white",
            "showbackground": true,
            "ticks": "",
            "zerolinecolor": "white"
           }
          },
          "shapedefaults": {
           "line": {
            "color": "#2a3f5f"
           }
          },
          "ternary": {
           "aaxis": {
            "gridcolor": "white",
            "linecolor": "white",
            "ticks": ""
           },
           "baxis": {
            "gridcolor": "white",
            "linecolor": "white",
            "ticks": ""
           },
           "bgcolor": "#E5ECF6",
           "caxis": {
            "gridcolor": "white",
            "linecolor": "white",
            "ticks": ""
           }
          },
          "title": {
           "x": 0.05
          },
          "xaxis": {
           "automargin": true,
           "gridcolor": "white",
           "linecolor": "white",
           "ticks": "",
           "title": {
            "standoff": 15
           },
           "zerolinecolor": "white",
           "zerolinewidth": 2
          },
          "yaxis": {
           "automargin": true,
           "gridcolor": "white",
           "linecolor": "white",
           "ticks": "",
           "title": {
            "standoff": 15
           },
           "zerolinecolor": "white",
           "zerolinewidth": 2
          }
         }
        },
        "title": {
         "text": "Open Models Structured Output Comparison"
        },
        "xaxis": {
         "title": {
          "text": "Median Latency (seconds)"
         }
        },
        "yaxis": {
         "title": {
          "text": "Failure Rate (%)"
         }
        }
       }
      }
     },
     "metadata": {},
     "output_type": "display_data"
    }
   ],
   "source": [
    "show_scatter_plot(\n",
    "    \"Open Models Structured Output Comparison\",\n",
    "    df,\n",
    "    [*Models.Fireworks, *Models.TogetherFunc, Models.GroqMixtral, Models.GroqGemma7b],\n",
    ")"
   ]
  },
  {
   "cell_type": "markdown",
   "metadata": {},
   "source": [
    "## All Models\n",
    "\n",
    "**GroqLLaMa70b** exhibits horrible consistency next to the other Groq models"
   ]
  },
  {
   "cell_type": "code",
   "execution_count": 14,
   "metadata": {},
   "outputs": [
    {
     "data": {
      "application/vnd.plotly.v1+json": {
       "config": {
        "plotlyServerURL": "https://plot.ly"
       },
       "data": [
        {
         "hovertemplate": "<b>FireworksFunctions</b><br>Failure Rate: 0.00%<br>1st Quartile: 1.07s<br>Mean: 1.20s<br>Median: 1.23s<br>3rd Quartile: 1.30s<extra></extra>",
         "mode": "markers+text",
         "name": "FireworksFunctions",
         "text": [
          "FireworksFunctions"
         ],
         "textposition": "top center",
         "type": "scatter",
         "x": [
          1.2278610467910767
         ],
         "y": [
          0
         ]
        },
        {
         "hovertemplate": "<b>FireworksMixtral</b><br>Failure Rate: 0.00%<br>1st Quartile: 1.41s<br>Mean: 3.17s<br>Median: 1.90s<br>3rd Quartile: 4.59s<extra></extra>",
         "mode": "markers+text",
         "name": "FireworksMixtral",
         "text": [
          "FireworksMixtral"
         ],
         "textposition": "bottom center",
         "type": "scatter",
         "x": [
          1.9042160511016846
         ],
         "y": [
          0
         ]
        },
        {
         "hovertemplate": "<b>GPT350125Functions</b><br>Failure Rate: 20.00%<br>1st Quartile: 1.10s<br>Mean: 1.33s<br>Median: 1.24s<br>3rd Quartile: 1.50s<extra></extra>",
         "mode": "markers+text",
         "name": "GPT350125Functions",
         "text": [
          "GPT350125Functions"
         ],
         "textposition": "top center",
         "type": "scatter",
         "x": [
          1.236052393913269
         ],
         "y": [
          20
         ]
        },
        {
         "hovertemplate": "<b>GPT350125Json</b><br>Failure Rate: 0.00%<br>1st Quartile: 2.05s<br>Mean: 2.35s<br>Median: 2.36s<br>3rd Quartile: 2.55s<extra></extra>",
         "mode": "markers+text",
         "name": "GPT350125Json",
         "text": [
          "GPT350125Json"
         ],
         "textposition": "bottom center",
         "type": "scatter",
         "x": [
          2.35539448261261
         ],
         "y": [
          0
         ]
        },
        {
         "hovertemplate": "<b>GPT350613Functions</b><br>Failure Rate: 0.00%<br>1st Quartile: 1.66s<br>Mean: 1.72s<br>Median: 1.77s<br>3rd Quartile: 1.80s<extra></extra>",
         "mode": "markers+text",
         "name": "GPT350613Functions",
         "text": [
          "GPT350613Functions"
         ],
         "textposition": "top center",
         "type": "scatter",
         "x": [
          1.768169641494751
         ],
         "y": [
          0
         ]
        },
        {
         "hovertemplate": "<b>GPT351106Functions</b><br>Failure Rate: 40.00%<br>1st Quartile: 0.64s<br>Mean: 0.85s<br>Median: 0.80s<br>3rd Quartile: 1.09s<extra></extra>",
         "mode": "markers+text",
         "name": "GPT351106Functions",
         "text": [
          "GPT351106Functions"
         ],
         "textposition": "bottom center",
         "type": "scatter",
         "x": [
          0.7980055809020996
         ],
         "y": [
          40
         ]
        },
        {
         "hovertemplate": "<b>GPT351106Json</b><br>Failure Rate: 0.00%<br>1st Quartile: 1.31s<br>Mean: 1.47s<br>Median: 1.41s<br>3rd Quartile: 1.57s<extra></extra>",
         "mode": "markers+text",
         "name": "GPT351106Json",
         "text": [
          "GPT351106Json"
         ],
         "textposition": "top center",
         "type": "scatter",
         "x": [
          1.4107609987258911
         ],
         "y": [
          0
         ]
        },
        {
         "hovertemplate": "<b>GPT4Functions</b><br>Failure Rate: 0.00%<br>1st Quartile: 5.56s<br>Mean: 6.64s<br>Median: 6.35s<br>3rd Quartile: 7.78s<extra></extra>",
         "mode": "markers+text",
         "name": "GPT4Functions",
         "text": [
          "GPT4Functions"
         ],
         "textposition": "bottom center",
         "type": "scatter",
         "x": [
          6.345316052436829
         ],
         "y": [
          0
         ]
        },
        {
         "hovertemplate": "<b>GPT4Json</b><br>Failure Rate: 0.00%<br>1st Quartile: 5.32s<br>Mean: 7.89s<br>Median: 6.80s<br>3rd Quartile: 8.49s<extra></extra>",
         "mode": "markers+text",
         "name": "GPT4Json",
         "text": [
          "GPT4Json"
         ],
         "textposition": "top center",
         "type": "scatter",
         "x": [
          6.796949505805969
         ],
         "y": [
          0
         ]
        },
        {
         "hovertemplate": "<b>GroqGemma7b</b><br>Failure Rate: 0.00%<br>1st Quartile: 0.44s<br>Mean: 0.56s<br>Median: 0.51s<br>3rd Quartile: 0.53s<extra></extra>",
         "mode": "markers+text",
         "name": "GroqGemma7b",
         "text": [
          "GroqGemma7b"
         ],
         "textposition": "bottom center",
         "type": "scatter",
         "x": [
          0.5132019519805908
         ],
         "y": [
          0
         ]
        },
        {
         "hovertemplate": "<b>GroqLLaMa70b</b><br>Failure Rate: 80.00%<br>1st Quartile: 0.95s<br>Mean: 1.14s<br>Median: 1.03s<br>3rd Quartile: 1.17s<extra></extra>",
         "mode": "markers+text",
         "name": "GroqLLaMa70b",
         "text": [
          "GroqLLaMa70b"
         ],
         "textposition": "top center",
         "type": "scatter",
         "x": [
          1.030286431312561
         ],
         "y": [
          80
         ]
        },
        {
         "hovertemplate": "<b>GroqMixtral</b><br>Failure Rate: 0.00%<br>1st Quartile: 0.71s<br>Mean: 0.98s<br>Median: 0.77s<br>3rd Quartile: 0.90s<extra></extra>",
         "mode": "markers+text",
         "name": "GroqMixtral",
         "text": [
          "GroqMixtral"
         ],
         "textposition": "bottom center",
         "type": "scatter",
         "x": [
          0.7671747207641602
         ],
         "y": [
          0
         ]
        },
        {
         "hovertemplate": "<b>MistralLargeFunc</b><br>Failure Rate: 10.00%<br>1st Quartile: 2.12s<br>Mean: 2.47s<br>Median: 2.59s<br>3rd Quartile: 3.01s<extra></extra>",
         "mode": "markers+text",
         "name": "MistralLargeFunc",
         "text": [
          "MistralLargeFunc"
         ],
         "textposition": "top center",
         "type": "scatter",
         "x": [
          2.58730947971344
         ],
         "y": [
          10
         ]
        },
        {
         "hovertemplate": "<b>TogetherCodeLlama34BIFunc</b><br>Failure Rate: 0.00%<br>1st Quartile: 3.42s<br>Mean: 3.47s<br>Median: 3.59s<br>3rd Quartile: 3.64s<extra></extra>",
         "mode": "markers+text",
         "name": "TogetherCodeLlama34BIFunc",
         "text": [
          "TogetherCodeLlama34BIFunc"
         ],
         "textposition": "bottom center",
         "type": "scatter",
         "x": [
          3.587239980697632
         ],
         "y": [
          0
         ]
        },
        {
         "hovertemplate": "<b>TogetherMistralFunc</b><br>Failure Rate: 0.00%<br>1st Quartile: 1.64s<br>Mean: 2.19s<br>Median: 2.00s<br>3rd Quartile: 2.20s<extra></extra>",
         "mode": "markers+text",
         "name": "TogetherMistralFunc",
         "text": [
          "TogetherMistralFunc"
         ],
         "textposition": "top center",
         "type": "scatter",
         "x": [
          1.99796462059021
         ],
         "y": [
          0
         ]
        },
        {
         "hovertemplate": "<b>TogetherMixtralFunc</b><br>Failure Rate: 0.00%<br>1st Quartile: 1.50s<br>Mean: 1.89s<br>Median: 1.92s<br>3rd Quartile: 2.16s<extra></extra>",
         "mode": "markers+text",
         "name": "TogetherMixtralFunc",
         "text": [
          "TogetherMixtralFunc"
         ],
         "textposition": "bottom center",
         "type": "scatter",
         "x": [
          1.9201750755310059
         ],
         "y": [
          0
         ]
        }
       ],
       "layout": {
        "showlegend": false,
        "template": {
         "data": {
          "bar": [
           {
            "error_x": {
             "color": "#2a3f5f"
            },
            "error_y": {
             "color": "#2a3f5f"
            },
            "marker": {
             "line": {
              "color": "#E5ECF6",
              "width": 0.5
             },
             "pattern": {
              "fillmode": "overlay",
              "size": 10,
              "solidity": 0.2
             }
            },
            "type": "bar"
           }
          ],
          "barpolar": [
           {
            "marker": {
             "line": {
              "color": "#E5ECF6",
              "width": 0.5
             },
             "pattern": {
              "fillmode": "overlay",
              "size": 10,
              "solidity": 0.2
             }
            },
            "type": "barpolar"
           }
          ],
          "carpet": [
           {
            "aaxis": {
             "endlinecolor": "#2a3f5f",
             "gridcolor": "white",
             "linecolor": "white",
             "minorgridcolor": "white",
             "startlinecolor": "#2a3f5f"
            },
            "baxis": {
             "endlinecolor": "#2a3f5f",
             "gridcolor": "white",
             "linecolor": "white",
             "minorgridcolor": "white",
             "startlinecolor": "#2a3f5f"
            },
            "type": "carpet"
           }
          ],
          "choropleth": [
           {
            "colorbar": {
             "outlinewidth": 0,
             "ticks": ""
            },
            "type": "choropleth"
           }
          ],
          "contour": [
           {
            "colorbar": {
             "outlinewidth": 0,
             "ticks": ""
            },
            "colorscale": [
             [
              0,
              "#0d0887"
             ],
             [
              0.1111111111111111,
              "#46039f"
             ],
             [
              0.2222222222222222,
              "#7201a8"
             ],
             [
              0.3333333333333333,
              "#9c179e"
             ],
             [
              0.4444444444444444,
              "#bd3786"
             ],
             [
              0.5555555555555556,
              "#d8576b"
             ],
             [
              0.6666666666666666,
              "#ed7953"
             ],
             [
              0.7777777777777778,
              "#fb9f3a"
             ],
             [
              0.8888888888888888,
              "#fdca26"
             ],
             [
              1,
              "#f0f921"
             ]
            ],
            "type": "contour"
           }
          ],
          "contourcarpet": [
           {
            "colorbar": {
             "outlinewidth": 0,
             "ticks": ""
            },
            "type": "contourcarpet"
           }
          ],
          "heatmap": [
           {
            "colorbar": {
             "outlinewidth": 0,
             "ticks": ""
            },
            "colorscale": [
             [
              0,
              "#0d0887"
             ],
             [
              0.1111111111111111,
              "#46039f"
             ],
             [
              0.2222222222222222,
              "#7201a8"
             ],
             [
              0.3333333333333333,
              "#9c179e"
             ],
             [
              0.4444444444444444,
              "#bd3786"
             ],
             [
              0.5555555555555556,
              "#d8576b"
             ],
             [
              0.6666666666666666,
              "#ed7953"
             ],
             [
              0.7777777777777778,
              "#fb9f3a"
             ],
             [
              0.8888888888888888,
              "#fdca26"
             ],
             [
              1,
              "#f0f921"
             ]
            ],
            "type": "heatmap"
           }
          ],
          "heatmapgl": [
           {
            "colorbar": {
             "outlinewidth": 0,
             "ticks": ""
            },
            "colorscale": [
             [
              0,
              "#0d0887"
             ],
             [
              0.1111111111111111,
              "#46039f"
             ],
             [
              0.2222222222222222,
              "#7201a8"
             ],
             [
              0.3333333333333333,
              "#9c179e"
             ],
             [
              0.4444444444444444,
              "#bd3786"
             ],
             [
              0.5555555555555556,
              "#d8576b"
             ],
             [
              0.6666666666666666,
              "#ed7953"
             ],
             [
              0.7777777777777778,
              "#fb9f3a"
             ],
             [
              0.8888888888888888,
              "#fdca26"
             ],
             [
              1,
              "#f0f921"
             ]
            ],
            "type": "heatmapgl"
           }
          ],
          "histogram": [
           {
            "marker": {
             "pattern": {
              "fillmode": "overlay",
              "size": 10,
              "solidity": 0.2
             }
            },
            "type": "histogram"
           }
          ],
          "histogram2d": [
           {
            "colorbar": {
             "outlinewidth": 0,
             "ticks": ""
            },
            "colorscale": [
             [
              0,
              "#0d0887"
             ],
             [
              0.1111111111111111,
              "#46039f"
             ],
             [
              0.2222222222222222,
              "#7201a8"
             ],
             [
              0.3333333333333333,
              "#9c179e"
             ],
             [
              0.4444444444444444,
              "#bd3786"
             ],
             [
              0.5555555555555556,
              "#d8576b"
             ],
             [
              0.6666666666666666,
              "#ed7953"
             ],
             [
              0.7777777777777778,
              "#fb9f3a"
             ],
             [
              0.8888888888888888,
              "#fdca26"
             ],
             [
              1,
              "#f0f921"
             ]
            ],
            "type": "histogram2d"
           }
          ],
          "histogram2dcontour": [
           {
            "colorbar": {
             "outlinewidth": 0,
             "ticks": ""
            },
            "colorscale": [
             [
              0,
              "#0d0887"
             ],
             [
              0.1111111111111111,
              "#46039f"
             ],
             [
              0.2222222222222222,
              "#7201a8"
             ],
             [
              0.3333333333333333,
              "#9c179e"
             ],
             [
              0.4444444444444444,
              "#bd3786"
             ],
             [
              0.5555555555555556,
              "#d8576b"
             ],
             [
              0.6666666666666666,
              "#ed7953"
             ],
             [
              0.7777777777777778,
              "#fb9f3a"
             ],
             [
              0.8888888888888888,
              "#fdca26"
             ],
             [
              1,
              "#f0f921"
             ]
            ],
            "type": "histogram2dcontour"
           }
          ],
          "mesh3d": [
           {
            "colorbar": {
             "outlinewidth": 0,
             "ticks": ""
            },
            "type": "mesh3d"
           }
          ],
          "parcoords": [
           {
            "line": {
             "colorbar": {
              "outlinewidth": 0,
              "ticks": ""
             }
            },
            "type": "parcoords"
           }
          ],
          "pie": [
           {
            "automargin": true,
            "type": "pie"
           }
          ],
          "scatter": [
           {
            "fillpattern": {
             "fillmode": "overlay",
             "size": 10,
             "solidity": 0.2
            },
            "type": "scatter"
           }
          ],
          "scatter3d": [
           {
            "line": {
             "colorbar": {
              "outlinewidth": 0,
              "ticks": ""
             }
            },
            "marker": {
             "colorbar": {
              "outlinewidth": 0,
              "ticks": ""
             }
            },
            "type": "scatter3d"
           }
          ],
          "scattercarpet": [
           {
            "marker": {
             "colorbar": {
              "outlinewidth": 0,
              "ticks": ""
             }
            },
            "type": "scattercarpet"
           }
          ],
          "scattergeo": [
           {
            "marker": {
             "colorbar": {
              "outlinewidth": 0,
              "ticks": ""
             }
            },
            "type": "scattergeo"
           }
          ],
          "scattergl": [
           {
            "marker": {
             "colorbar": {
              "outlinewidth": 0,
              "ticks": ""
             }
            },
            "type": "scattergl"
           }
          ],
          "scattermapbox": [
           {
            "marker": {
             "colorbar": {
              "outlinewidth": 0,
              "ticks": ""
             }
            },
            "type": "scattermapbox"
           }
          ],
          "scatterpolar": [
           {
            "marker": {
             "colorbar": {
              "outlinewidth": 0,
              "ticks": ""
             }
            },
            "type": "scatterpolar"
           }
          ],
          "scatterpolargl": [
           {
            "marker": {
             "colorbar": {
              "outlinewidth": 0,
              "ticks": ""
             }
            },
            "type": "scatterpolargl"
           }
          ],
          "scatterternary": [
           {
            "marker": {
             "colorbar": {
              "outlinewidth": 0,
              "ticks": ""
             }
            },
            "type": "scatterternary"
           }
          ],
          "surface": [
           {
            "colorbar": {
             "outlinewidth": 0,
             "ticks": ""
            },
            "colorscale": [
             [
              0,
              "#0d0887"
             ],
             [
              0.1111111111111111,
              "#46039f"
             ],
             [
              0.2222222222222222,
              "#7201a8"
             ],
             [
              0.3333333333333333,
              "#9c179e"
             ],
             [
              0.4444444444444444,
              "#bd3786"
             ],
             [
              0.5555555555555556,
              "#d8576b"
             ],
             [
              0.6666666666666666,
              "#ed7953"
             ],
             [
              0.7777777777777778,
              "#fb9f3a"
             ],
             [
              0.8888888888888888,
              "#fdca26"
             ],
             [
              1,
              "#f0f921"
             ]
            ],
            "type": "surface"
           }
          ],
          "table": [
           {
            "cells": {
             "fill": {
              "color": "#EBF0F8"
             },
             "line": {
              "color": "white"
             }
            },
            "header": {
             "fill": {
              "color": "#C8D4E3"
             },
             "line": {
              "color": "white"
             }
            },
            "type": "table"
           }
          ]
         },
         "layout": {
          "annotationdefaults": {
           "arrowcolor": "#2a3f5f",
           "arrowhead": 0,
           "arrowwidth": 1
          },
          "autotypenumbers": "strict",
          "coloraxis": {
           "colorbar": {
            "outlinewidth": 0,
            "ticks": ""
           }
          },
          "colorscale": {
           "diverging": [
            [
             0,
             "#8e0152"
            ],
            [
             0.1,
             "#c51b7d"
            ],
            [
             0.2,
             "#de77ae"
            ],
            [
             0.3,
             "#f1b6da"
            ],
            [
             0.4,
             "#fde0ef"
            ],
            [
             0.5,
             "#f7f7f7"
            ],
            [
             0.6,
             "#e6f5d0"
            ],
            [
             0.7,
             "#b8e186"
            ],
            [
             0.8,
             "#7fbc41"
            ],
            [
             0.9,
             "#4d9221"
            ],
            [
             1,
             "#276419"
            ]
           ],
           "sequential": [
            [
             0,
             "#0d0887"
            ],
            [
             0.1111111111111111,
             "#46039f"
            ],
            [
             0.2222222222222222,
             "#7201a8"
            ],
            [
             0.3333333333333333,
             "#9c179e"
            ],
            [
             0.4444444444444444,
             "#bd3786"
            ],
            [
             0.5555555555555556,
             "#d8576b"
            ],
            [
             0.6666666666666666,
             "#ed7953"
            ],
            [
             0.7777777777777778,
             "#fb9f3a"
            ],
            [
             0.8888888888888888,
             "#fdca26"
            ],
            [
             1,
             "#f0f921"
            ]
           ],
           "sequentialminus": [
            [
             0,
             "#0d0887"
            ],
            [
             0.1111111111111111,
             "#46039f"
            ],
            [
             0.2222222222222222,
             "#7201a8"
            ],
            [
             0.3333333333333333,
             "#9c179e"
            ],
            [
             0.4444444444444444,
             "#bd3786"
            ],
            [
             0.5555555555555556,
             "#d8576b"
            ],
            [
             0.6666666666666666,
             "#ed7953"
            ],
            [
             0.7777777777777778,
             "#fb9f3a"
            ],
            [
             0.8888888888888888,
             "#fdca26"
            ],
            [
             1,
             "#f0f921"
            ]
           ]
          },
          "colorway": [
           "#636efa",
           "#EF553B",
           "#00cc96",
           "#ab63fa",
           "#FFA15A",
           "#19d3f3",
           "#FF6692",
           "#B6E880",
           "#FF97FF",
           "#FECB52"
          ],
          "font": {
           "color": "#2a3f5f"
          },
          "geo": {
           "bgcolor": "white",
           "lakecolor": "white",
           "landcolor": "#E5ECF6",
           "showlakes": true,
           "showland": true,
           "subunitcolor": "white"
          },
          "hoverlabel": {
           "align": "left"
          },
          "hovermode": "closest",
          "mapbox": {
           "style": "light"
          },
          "paper_bgcolor": "white",
          "plot_bgcolor": "#E5ECF6",
          "polar": {
           "angularaxis": {
            "gridcolor": "white",
            "linecolor": "white",
            "ticks": ""
           },
           "bgcolor": "#E5ECF6",
           "radialaxis": {
            "gridcolor": "white",
            "linecolor": "white",
            "ticks": ""
           }
          },
          "scene": {
           "xaxis": {
            "backgroundcolor": "#E5ECF6",
            "gridcolor": "white",
            "gridwidth": 2,
            "linecolor": "white",
            "showbackground": true,
            "ticks": "",
            "zerolinecolor": "white"
           },
           "yaxis": {
            "backgroundcolor": "#E5ECF6",
            "gridcolor": "white",
            "gridwidth": 2,
            "linecolor": "white",
            "showbackground": true,
            "ticks": "",
            "zerolinecolor": "white"
           },
           "zaxis": {
            "backgroundcolor": "#E5ECF6",
            "gridcolor": "white",
            "gridwidth": 2,
            "linecolor": "white",
            "showbackground": true,
            "ticks": "",
            "zerolinecolor": "white"
           }
          },
          "shapedefaults": {
           "line": {
            "color": "#2a3f5f"
           }
          },
          "ternary": {
           "aaxis": {
            "gridcolor": "white",
            "linecolor": "white",
            "ticks": ""
           },
           "baxis": {
            "gridcolor": "white",
            "linecolor": "white",
            "ticks": ""
           },
           "bgcolor": "#E5ECF6",
           "caxis": {
            "gridcolor": "white",
            "linecolor": "white",
            "ticks": ""
           }
          },
          "title": {
           "x": 0.05
          },
          "xaxis": {
           "automargin": true,
           "gridcolor": "white",
           "linecolor": "white",
           "ticks": "",
           "title": {
            "standoff": 15
           },
           "zerolinecolor": "white",
           "zerolinewidth": 2
          },
          "yaxis": {
           "automargin": true,
           "gridcolor": "white",
           "linecolor": "white",
           "ticks": "",
           "title": {
            "standoff": 15
           },
           "zerolinecolor": "white",
           "zerolinewidth": 2
          }
         }
        },
        "title": {
         "text": "Structured Output LLMs Comparison"
        },
        "xaxis": {
         "title": {
          "text": "Median Latency (seconds)"
         }
        },
        "yaxis": {
         "title": {
          "text": "Failure Rate (%)"
         }
        }
       }
      }
     },
     "metadata": {},
     "output_type": "display_data"
    }
   ],
   "source": [
    "show_scatter_plot(\"Structured Output LLMs Comparison\", df)"
   ]
  },
  {
   "cell_type": "markdown",
   "metadata": {},
   "source": [
    "## Proprietary Models\n",
    "\n",
    "### GPT 4\n",
    "As per usual, GPT4 offers great consistency and awful speed.\n",
    "\n",
    "### GPT 3.5\n",
    "The performance varies greatly across the GPT3.5 models for both consistency and latency. The newer versions are much less consistent with function calling than the older 0613 version which only offers support for function calling, not JSON mode. JSON mode works much better on the two newer versions, with a notable speed increase for 0125 compared to 1106.\n",
    "\n",
    "### Mistral Large\n",
    "Struggles to provide consistent structured output."
   ]
  },
  {
   "cell_type": "code",
   "execution_count": 15,
   "metadata": {},
   "outputs": [
    {
     "data": {
      "application/vnd.plotly.v1+json": {
       "config": {
        "plotlyServerURL": "https://plot.ly"
       },
       "data": [
        {
         "hovertemplate": "<b>GPT350125Functions</b><br>Failure Rate: 20.00%<br>1st Quartile: 1.10s<br>Mean: 1.33s<br>Median: 1.24s<br>3rd Quartile: 1.50s<extra></extra>",
         "mode": "markers+text",
         "name": "GPT350125Functions",
         "text": [
          "GPT350125Functions"
         ],
         "textposition": "top center",
         "type": "scatter",
         "x": [
          1.236052393913269
         ],
         "y": [
          20
         ]
        },
        {
         "hovertemplate": "<b>GPT350125Json</b><br>Failure Rate: 0.00%<br>1st Quartile: 2.05s<br>Mean: 2.35s<br>Median: 2.36s<br>3rd Quartile: 2.55s<extra></extra>",
         "mode": "markers+text",
         "name": "GPT350125Json",
         "text": [
          "GPT350125Json"
         ],
         "textposition": "bottom center",
         "type": "scatter",
         "x": [
          2.35539448261261
         ],
         "y": [
          0
         ]
        },
        {
         "hovertemplate": "<b>GPT350613Functions</b><br>Failure Rate: 0.00%<br>1st Quartile: 1.66s<br>Mean: 1.72s<br>Median: 1.77s<br>3rd Quartile: 1.80s<extra></extra>",
         "mode": "markers+text",
         "name": "GPT350613Functions",
         "text": [
          "GPT350613Functions"
         ],
         "textposition": "top center",
         "type": "scatter",
         "x": [
          1.768169641494751
         ],
         "y": [
          0
         ]
        },
        {
         "hovertemplate": "<b>GPT351106Functions</b><br>Failure Rate: 40.00%<br>1st Quartile: 0.64s<br>Mean: 0.85s<br>Median: 0.80s<br>3rd Quartile: 1.09s<extra></extra>",
         "mode": "markers+text",
         "name": "GPT351106Functions",
         "text": [
          "GPT351106Functions"
         ],
         "textposition": "bottom center",
         "type": "scatter",
         "x": [
          0.7980055809020996
         ],
         "y": [
          40
         ]
        },
        {
         "hovertemplate": "<b>GPT351106Json</b><br>Failure Rate: 0.00%<br>1st Quartile: 1.31s<br>Mean: 1.47s<br>Median: 1.41s<br>3rd Quartile: 1.57s<extra></extra>",
         "mode": "markers+text",
         "name": "GPT351106Json",
         "text": [
          "GPT351106Json"
         ],
         "textposition": "top center",
         "type": "scatter",
         "x": [
          1.4107609987258911
         ],
         "y": [
          0
         ]
        },
        {
         "hovertemplate": "<b>GPT4Functions</b><br>Failure Rate: 0.00%<br>1st Quartile: 5.56s<br>Mean: 6.64s<br>Median: 6.35s<br>3rd Quartile: 7.78s<extra></extra>",
         "mode": "markers+text",
         "name": "GPT4Functions",
         "text": [
          "GPT4Functions"
         ],
         "textposition": "bottom center",
         "type": "scatter",
         "x": [
          6.345316052436829
         ],
         "y": [
          0
         ]
        },
        {
         "hovertemplate": "<b>GPT4Json</b><br>Failure Rate: 0.00%<br>1st Quartile: 5.32s<br>Mean: 7.89s<br>Median: 6.80s<br>3rd Quartile: 8.49s<extra></extra>",
         "mode": "markers+text",
         "name": "GPT4Json",
         "text": [
          "GPT4Json"
         ],
         "textposition": "top center",
         "type": "scatter",
         "x": [
          6.796949505805969
         ],
         "y": [
          0
         ]
        },
        {
         "hovertemplate": "<b>MistralLargeFunc</b><br>Failure Rate: 10.00%<br>1st Quartile: 2.12s<br>Mean: 2.47s<br>Median: 2.59s<br>3rd Quartile: 3.01s<extra></extra>",
         "mode": "markers+text",
         "name": "MistralLargeFunc",
         "text": [
          "MistralLargeFunc"
         ],
         "textposition": "bottom center",
         "type": "scatter",
         "x": [
          2.58730947971344
         ],
         "y": [
          10
         ]
        }
       ],
       "layout": {
        "showlegend": false,
        "template": {
         "data": {
          "bar": [
           {
            "error_x": {
             "color": "#2a3f5f"
            },
            "error_y": {
             "color": "#2a3f5f"
            },
            "marker": {
             "line": {
              "color": "#E5ECF6",
              "width": 0.5
             },
             "pattern": {
              "fillmode": "overlay",
              "size": 10,
              "solidity": 0.2
             }
            },
            "type": "bar"
           }
          ],
          "barpolar": [
           {
            "marker": {
             "line": {
              "color": "#E5ECF6",
              "width": 0.5
             },
             "pattern": {
              "fillmode": "overlay",
              "size": 10,
              "solidity": 0.2
             }
            },
            "type": "barpolar"
           }
          ],
          "carpet": [
           {
            "aaxis": {
             "endlinecolor": "#2a3f5f",
             "gridcolor": "white",
             "linecolor": "white",
             "minorgridcolor": "white",
             "startlinecolor": "#2a3f5f"
            },
            "baxis": {
             "endlinecolor": "#2a3f5f",
             "gridcolor": "white",
             "linecolor": "white",
             "minorgridcolor": "white",
             "startlinecolor": "#2a3f5f"
            },
            "type": "carpet"
           }
          ],
          "choropleth": [
           {
            "colorbar": {
             "outlinewidth": 0,
             "ticks": ""
            },
            "type": "choropleth"
           }
          ],
          "contour": [
           {
            "colorbar": {
             "outlinewidth": 0,
             "ticks": ""
            },
            "colorscale": [
             [
              0,
              "#0d0887"
             ],
             [
              0.1111111111111111,
              "#46039f"
             ],
             [
              0.2222222222222222,
              "#7201a8"
             ],
             [
              0.3333333333333333,
              "#9c179e"
             ],
             [
              0.4444444444444444,
              "#bd3786"
             ],
             [
              0.5555555555555556,
              "#d8576b"
             ],
             [
              0.6666666666666666,
              "#ed7953"
             ],
             [
              0.7777777777777778,
              "#fb9f3a"
             ],
             [
              0.8888888888888888,
              "#fdca26"
             ],
             [
              1,
              "#f0f921"
             ]
            ],
            "type": "contour"
           }
          ],
          "contourcarpet": [
           {
            "colorbar": {
             "outlinewidth": 0,
             "ticks": ""
            },
            "type": "contourcarpet"
           }
          ],
          "heatmap": [
           {
            "colorbar": {
             "outlinewidth": 0,
             "ticks": ""
            },
            "colorscale": [
             [
              0,
              "#0d0887"
             ],
             [
              0.1111111111111111,
              "#46039f"
             ],
             [
              0.2222222222222222,
              "#7201a8"
             ],
             [
              0.3333333333333333,
              "#9c179e"
             ],
             [
              0.4444444444444444,
              "#bd3786"
             ],
             [
              0.5555555555555556,
              "#d8576b"
             ],
             [
              0.6666666666666666,
              "#ed7953"
             ],
             [
              0.7777777777777778,
              "#fb9f3a"
             ],
             [
              0.8888888888888888,
              "#fdca26"
             ],
             [
              1,
              "#f0f921"
             ]
            ],
            "type": "heatmap"
           }
          ],
          "heatmapgl": [
           {
            "colorbar": {
             "outlinewidth": 0,
             "ticks": ""
            },
            "colorscale": [
             [
              0,
              "#0d0887"
             ],
             [
              0.1111111111111111,
              "#46039f"
             ],
             [
              0.2222222222222222,
              "#7201a8"
             ],
             [
              0.3333333333333333,
              "#9c179e"
             ],
             [
              0.4444444444444444,
              "#bd3786"
             ],
             [
              0.5555555555555556,
              "#d8576b"
             ],
             [
              0.6666666666666666,
              "#ed7953"
             ],
             [
              0.7777777777777778,
              "#fb9f3a"
             ],
             [
              0.8888888888888888,
              "#fdca26"
             ],
             [
              1,
              "#f0f921"
             ]
            ],
            "type": "heatmapgl"
           }
          ],
          "histogram": [
           {
            "marker": {
             "pattern": {
              "fillmode": "overlay",
              "size": 10,
              "solidity": 0.2
             }
            },
            "type": "histogram"
           }
          ],
          "histogram2d": [
           {
            "colorbar": {
             "outlinewidth": 0,
             "ticks": ""
            },
            "colorscale": [
             [
              0,
              "#0d0887"
             ],
             [
              0.1111111111111111,
              "#46039f"
             ],
             [
              0.2222222222222222,
              "#7201a8"
             ],
             [
              0.3333333333333333,
              "#9c179e"
             ],
             [
              0.4444444444444444,
              "#bd3786"
             ],
             [
              0.5555555555555556,
              "#d8576b"
             ],
             [
              0.6666666666666666,
              "#ed7953"
             ],
             [
              0.7777777777777778,
              "#fb9f3a"
             ],
             [
              0.8888888888888888,
              "#fdca26"
             ],
             [
              1,
              "#f0f921"
             ]
            ],
            "type": "histogram2d"
           }
          ],
          "histogram2dcontour": [
           {
            "colorbar": {
             "outlinewidth": 0,
             "ticks": ""
            },
            "colorscale": [
             [
              0,
              "#0d0887"
             ],
             [
              0.1111111111111111,
              "#46039f"
             ],
             [
              0.2222222222222222,
              "#7201a8"
             ],
             [
              0.3333333333333333,
              "#9c179e"
             ],
             [
              0.4444444444444444,
              "#bd3786"
             ],
             [
              0.5555555555555556,
              "#d8576b"
             ],
             [
              0.6666666666666666,
              "#ed7953"
             ],
             [
              0.7777777777777778,
              "#fb9f3a"
             ],
             [
              0.8888888888888888,
              "#fdca26"
             ],
             [
              1,
              "#f0f921"
             ]
            ],
            "type": "histogram2dcontour"
           }
          ],
          "mesh3d": [
           {
            "colorbar": {
             "outlinewidth": 0,
             "ticks": ""
            },
            "type": "mesh3d"
           }
          ],
          "parcoords": [
           {
            "line": {
             "colorbar": {
              "outlinewidth": 0,
              "ticks": ""
             }
            },
            "type": "parcoords"
           }
          ],
          "pie": [
           {
            "automargin": true,
            "type": "pie"
           }
          ],
          "scatter": [
           {
            "fillpattern": {
             "fillmode": "overlay",
             "size": 10,
             "solidity": 0.2
            },
            "type": "scatter"
           }
          ],
          "scatter3d": [
           {
            "line": {
             "colorbar": {
              "outlinewidth": 0,
              "ticks": ""
             }
            },
            "marker": {
             "colorbar": {
              "outlinewidth": 0,
              "ticks": ""
             }
            },
            "type": "scatter3d"
           }
          ],
          "scattercarpet": [
           {
            "marker": {
             "colorbar": {
              "outlinewidth": 0,
              "ticks": ""
             }
            },
            "type": "scattercarpet"
           }
          ],
          "scattergeo": [
           {
            "marker": {
             "colorbar": {
              "outlinewidth": 0,
              "ticks": ""
             }
            },
            "type": "scattergeo"
           }
          ],
          "scattergl": [
           {
            "marker": {
             "colorbar": {
              "outlinewidth": 0,
              "ticks": ""
             }
            },
            "type": "scattergl"
           }
          ],
          "scattermapbox": [
           {
            "marker": {
             "colorbar": {
              "outlinewidth": 0,
              "ticks": ""
             }
            },
            "type": "scattermapbox"
           }
          ],
          "scatterpolar": [
           {
            "marker": {
             "colorbar": {
              "outlinewidth": 0,
              "ticks": ""
             }
            },
            "type": "scatterpolar"
           }
          ],
          "scatterpolargl": [
           {
            "marker": {
             "colorbar": {
              "outlinewidth": 0,
              "ticks": ""
             }
            },
            "type": "scatterpolargl"
           }
          ],
          "scatterternary": [
           {
            "marker": {
             "colorbar": {
              "outlinewidth": 0,
              "ticks": ""
             }
            },
            "type": "scatterternary"
           }
          ],
          "surface": [
           {
            "colorbar": {
             "outlinewidth": 0,
             "ticks": ""
            },
            "colorscale": [
             [
              0,
              "#0d0887"
             ],
             [
              0.1111111111111111,
              "#46039f"
             ],
             [
              0.2222222222222222,
              "#7201a8"
             ],
             [
              0.3333333333333333,
              "#9c179e"
             ],
             [
              0.4444444444444444,
              "#bd3786"
             ],
             [
              0.5555555555555556,
              "#d8576b"
             ],
             [
              0.6666666666666666,
              "#ed7953"
             ],
             [
              0.7777777777777778,
              "#fb9f3a"
             ],
             [
              0.8888888888888888,
              "#fdca26"
             ],
             [
              1,
              "#f0f921"
             ]
            ],
            "type": "surface"
           }
          ],
          "table": [
           {
            "cells": {
             "fill": {
              "color": "#EBF0F8"
             },
             "line": {
              "color": "white"
             }
            },
            "header": {
             "fill": {
              "color": "#C8D4E3"
             },
             "line": {
              "color": "white"
             }
            },
            "type": "table"
           }
          ]
         },
         "layout": {
          "annotationdefaults": {
           "arrowcolor": "#2a3f5f",
           "arrowhead": 0,
           "arrowwidth": 1
          },
          "autotypenumbers": "strict",
          "coloraxis": {
           "colorbar": {
            "outlinewidth": 0,
            "ticks": ""
           }
          },
          "colorscale": {
           "diverging": [
            [
             0,
             "#8e0152"
            ],
            [
             0.1,
             "#c51b7d"
            ],
            [
             0.2,
             "#de77ae"
            ],
            [
             0.3,
             "#f1b6da"
            ],
            [
             0.4,
             "#fde0ef"
            ],
            [
             0.5,
             "#f7f7f7"
            ],
            [
             0.6,
             "#e6f5d0"
            ],
            [
             0.7,
             "#b8e186"
            ],
            [
             0.8,
             "#7fbc41"
            ],
            [
             0.9,
             "#4d9221"
            ],
            [
             1,
             "#276419"
            ]
           ],
           "sequential": [
            [
             0,
             "#0d0887"
            ],
            [
             0.1111111111111111,
             "#46039f"
            ],
            [
             0.2222222222222222,
             "#7201a8"
            ],
            [
             0.3333333333333333,
             "#9c179e"
            ],
            [
             0.4444444444444444,
             "#bd3786"
            ],
            [
             0.5555555555555556,
             "#d8576b"
            ],
            [
             0.6666666666666666,
             "#ed7953"
            ],
            [
             0.7777777777777778,
             "#fb9f3a"
            ],
            [
             0.8888888888888888,
             "#fdca26"
            ],
            [
             1,
             "#f0f921"
            ]
           ],
           "sequentialminus": [
            [
             0,
             "#0d0887"
            ],
            [
             0.1111111111111111,
             "#46039f"
            ],
            [
             0.2222222222222222,
             "#7201a8"
            ],
            [
             0.3333333333333333,
             "#9c179e"
            ],
            [
             0.4444444444444444,
             "#bd3786"
            ],
            [
             0.5555555555555556,
             "#d8576b"
            ],
            [
             0.6666666666666666,
             "#ed7953"
            ],
            [
             0.7777777777777778,
             "#fb9f3a"
            ],
            [
             0.8888888888888888,
             "#fdca26"
            ],
            [
             1,
             "#f0f921"
            ]
           ]
          },
          "colorway": [
           "#636efa",
           "#EF553B",
           "#00cc96",
           "#ab63fa",
           "#FFA15A",
           "#19d3f3",
           "#FF6692",
           "#B6E880",
           "#FF97FF",
           "#FECB52"
          ],
          "font": {
           "color": "#2a3f5f"
          },
          "geo": {
           "bgcolor": "white",
           "lakecolor": "white",
           "landcolor": "#E5ECF6",
           "showlakes": true,
           "showland": true,
           "subunitcolor": "white"
          },
          "hoverlabel": {
           "align": "left"
          },
          "hovermode": "closest",
          "mapbox": {
           "style": "light"
          },
          "paper_bgcolor": "white",
          "plot_bgcolor": "#E5ECF6",
          "polar": {
           "angularaxis": {
            "gridcolor": "white",
            "linecolor": "white",
            "ticks": ""
           },
           "bgcolor": "#E5ECF6",
           "radialaxis": {
            "gridcolor": "white",
            "linecolor": "white",
            "ticks": ""
           }
          },
          "scene": {
           "xaxis": {
            "backgroundcolor": "#E5ECF6",
            "gridcolor": "white",
            "gridwidth": 2,
            "linecolor": "white",
            "showbackground": true,
            "ticks": "",
            "zerolinecolor": "white"
           },
           "yaxis": {
            "backgroundcolor": "#E5ECF6",
            "gridcolor": "white",
            "gridwidth": 2,
            "linecolor": "white",
            "showbackground": true,
            "ticks": "",
            "zerolinecolor": "white"
           },
           "zaxis": {
            "backgroundcolor": "#E5ECF6",
            "gridcolor": "white",
            "gridwidth": 2,
            "linecolor": "white",
            "showbackground": true,
            "ticks": "",
            "zerolinecolor": "white"
           }
          },
          "shapedefaults": {
           "line": {
            "color": "#2a3f5f"
           }
          },
          "ternary": {
           "aaxis": {
            "gridcolor": "white",
            "linecolor": "white",
            "ticks": ""
           },
           "baxis": {
            "gridcolor": "white",
            "linecolor": "white",
            "ticks": ""
           },
           "bgcolor": "#E5ECF6",
           "caxis": {
            "gridcolor": "white",
            "linecolor": "white",
            "ticks": ""
           }
          },
          "title": {
           "x": 0.05
          },
          "xaxis": {
           "automargin": true,
           "gridcolor": "white",
           "linecolor": "white",
           "ticks": "",
           "title": {
            "standoff": 15
           },
           "zerolinecolor": "white",
           "zerolinewidth": 2
          },
          "yaxis": {
           "automargin": true,
           "gridcolor": "white",
           "linecolor": "white",
           "ticks": "",
           "title": {
            "standoff": 15
           },
           "zerolinecolor": "white",
           "zerolinewidth": 2
          }
         }
        },
        "title": {
         "text": "Proprietary Models Structured Output Comparison"
        },
        "xaxis": {
         "title": {
          "text": "Median Latency (seconds)"
         }
        },
        "yaxis": {
         "title": {
          "text": "Failure Rate (%)"
         }
        }
       }
      }
     },
     "metadata": {},
     "output_type": "display_data"
    }
   ],
   "source": [
    "show_scatter_plot(\n",
    "    \"Proprietary Models Structured Output Comparison\",\n",
    "    df,\n",
    "    [*Models.GPT35, *Models.GPT4, Models.MistralLargeFunc],\n",
    ")"
   ]
  },
  {
   "cell_type": "code",
   "execution_count": null,
   "metadata": {},
   "outputs": [],
   "source": []
  }
 ],
 "metadata": {
  "kernelspec": {
   "display_name": "ai-tools-Fmdgi90T-py3.11",
   "language": "python",
   "name": "python3"
  },
  "language_info": {
   "codemirror_mode": {
    "name": "ipython",
    "version": 3
   },
   "file_extension": ".py",
   "mimetype": "text/x-python",
   "name": "python",
   "nbconvert_exporter": "python",
   "pygments_lexer": "ipython3",
   "version": "3.11.8"
  }
 },
 "nbformat": 4,
 "nbformat_minor": 2
}
